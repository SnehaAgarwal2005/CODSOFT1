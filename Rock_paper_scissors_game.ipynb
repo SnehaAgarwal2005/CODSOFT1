{
  "nbformat": 4,
  "nbformat_minor": 0,
  "metadata": {
    "colab": {
      "provenance": [],
      "authorship_tag": "ABX9TyMoNt2hpXZqv5V1s4/jPPIm",
      "include_colab_link": true
    },
    "kernelspec": {
      "name": "python3",
      "display_name": "Python 3"
    },
    "language_info": {
      "name": "python"
    }
  },
  "cells": [
    {
      "cell_type": "markdown",
      "metadata": {
        "id": "view-in-github",
        "colab_type": "text"
      },
      "source": [
        "<a href=\"https://colab.research.google.com/github/SnehaAgarwal2005/CODSOFT1/blob/main/Rock_paper_scissors_game.ipynb\" target=\"_parent\"><img src=\"https://colab.research.google.com/assets/colab-badge.svg\" alt=\"Open In Colab\"/></a>"
      ]
    },
    {
      "cell_type": "code",
      "source": [
        "import random\n",
        "\n",
        "def get_user_choice():\n",
        "    while True:\n",
        "        user_choice = int(input(\"Enter your choice: Type 0 for rock, 1 for scissors, 2 for paper, or 3 to quit: \"))\n",
        "        if user_choice >= 0 and user_choice <= 2:\n",
        "            return user_choice\n",
        "        elif user_choice == 3:\n",
        "            print(\"Thanks for playing!\")\n",
        "            exit()\n",
        "        else:\n",
        "            print(\"Invalid choice. Please enter a valid choice.\")\n",
        "\n",
        "def get_computer_choice():\n",
        "    return random.randint(0, 2)\n",
        "\n",
        "def determine_winner(user_choice, computer_choice):\n",
        "    if user_choice == computer_choice:\n",
        "        return \"It's a draw.\"\n",
        "    elif user_choice == 0 and computer_choice == 2:\n",
        "        return \"You win.\"\n",
        "    elif user_choice == 2 and computer_choice == 0:\n",
        "        return \"You lose.\"\n",
        "    elif user_choice > computer_choice:\n",
        "        return \"You win.\"\n",
        "    else:\n",
        "        return \"You lose.\"\n",
        "\n",
        "def play_game():\n",
        "    while True:\n",
        "        user_choice = get_user_choice()\n",
        "        if user_choice == 3:  # 3 is the option to quit the game\n",
        "            break\n",
        "        computer_choice = get_computer_choice()\n",
        "        print(\"computer chose :\", computer_choice)\n",
        "        print(determine_winner(user_choice, computer_choice))\n",
        "\n",
        "play_game()"
      ],
      "metadata": {
        "id": "O5qVVARx1ZGq"
      },
      "execution_count": null,
      "outputs": []
    }
  ]
}